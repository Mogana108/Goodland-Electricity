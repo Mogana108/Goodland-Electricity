{
  "nbformat": 4,
  "nbformat_minor": 0,
  "metadata": {
    "colab": {
      "name": "Untitled19.ipynb",
      "provenance": []
    },
    "kernelspec": {
      "name": "python3",
      "display_name": "Python 3"
    },
    "language_info": {
      "name": "python"
    }
  },
  "cells": [
    {
      "cell_type": "code",
      "execution_count": null,
      "metadata": {
        "id": "oQExOCxSeAIw"
      },
      "outputs": [],
      "source": [
        "def pylons(k, arr):\n",
        "    i = 0\n",
        "    c = 0 \n",
        "    n = len(arr)\n",
        "    while True:\n",
        "        u =  min(i+2*k-1,n) if i else min(i+k,n)\n",
        "        for i in range(i,u)[::-1]:\n",
        "            if arr[i]:\n",
        "                c+=1\n",
        "                if i+k>=n: return c\n",
        "                i+=1\n",
        "                break\n",
        "        else:\n",
        "            return -1\n",
        "    \n",
        "n,k = map(int,input().split())\n",
        "arr = list(map(int,input().split()))\n",
        "print(pylons(k, arr))"
      ]
    }
  ]
}